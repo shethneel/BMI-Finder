{
  "nbformat": 4,
  "nbformat_minor": 0,
  "metadata": {
    "colab": {
      "name": "BODY MASS INDEX",
      "provenance": []
    },
    "kernelspec": {
      "name": "python3",
      "display_name": "Python 3"
    }
  },
  "cells": [
    {
      "cell_type": "code",
      "metadata": {
        "id": "-DAoskD-9nKB",
        "colab_type": "code",
        "outputId": "29843ea8-f5df-4bbb-9020-907b3e943fe1",
        "colab": {
          "base_uri": "https://localhost:8080/",
          "height": 255
        }
      },
      "source": [
        "#BMI FINDER PROGRAM\n",
        "\n",
        "print(\"Welcome to BMI (BODY MASS INDEX) finder\")\n",
        "\n",
        "#KG CONVERTER\n",
        "\n",
        "x = int(input(\"If your weight is in GMs then press 1 to convert it into KGs \\nIf you already have weight in KG press 2: \"))\n",
        "if (x==1):\n",
        "    y = int(input(\"Write your weight here\"))\n",
        "    print(\"Your weight is converting.....\")\n",
        "    z = y/1000\n",
        "    print(z,\"KG\")\n",
        "    if (x==2):\n",
        "        print(\"Okay, you can go ahed\")\n",
        "\n",
        "#Height Converter\n",
        "print(\"First you have to convert your height in CMs\")\n",
        "a = int(input(\"If your height is in, \\nInchs then press 1 \\nFoot the press 2 \\nMeter then press 3 \\nCM then 4\\n\"))\n",
        "if (a==1):\n",
        "    b = float(input(\"Enter height\"))\n",
        "    print(\"Your height is converting.....\")\n",
        "    c = b*2.54\n",
        "    print(c)\n",
        "    if (a==2):\n",
        "        b = float(input(\"Enter height\"))\n",
        "        print(\"Your height is converting.....\")\n",
        "        c = b*30.48\n",
        "        print(e)\n",
        "        if (a==3):\n",
        "            b = float(input(\"Enter height\"))\n",
        "            print(\"Your height is converting.....\")\n",
        "            c = b*100\n",
        "            if (a==4):\n",
        "                print(\"You can continue\")\n",
        "                \n",
        "\n",
        "#Main Converter\n",
        "\n",
        "weight = float(input(\"Enter weight in KG: \"))\n",
        "Height = float(input(\"Enter height in CM: \"))\n",
        "BMI = weight/Height*Height\n",
        "print(\"Your BMI is: \",BMI)\n",
        "if (BMI<25):\n",
        "  print(\"You have to eat healthy\")\n",
        "elif (BMI>25 and BMI<30):\n",
        "  print (\"Yoy are healthy... Good job\")\n",
        "else:\n",
        "  print(\"Do exercise\")"
      ],
      "execution_count": 1,
      "outputs": [
        {
          "output_type": "stream",
          "text": [
            "Welcome to BMI (BODY MASS INDEX) finder\n",
            "If your weight is in GMs then press 1 to convert it into KGs \n",
            "If you already have weight in KG press 2: 2\n",
            "First you have to convert your height in CMs\n",
            "If your height is in, \n",
            "Inchs then press 1 \n",
            "Foot the press 2 \n",
            "Meter then press 3 \n",
            "CM then 4\n",
            "4\n",
            "Enter weight in KG: 12\n",
            "Enter height in CM: 345\n",
            "Your BMI is:  12.0\n",
            "You have to eat healthy\n"
          ],
          "name": "stdout"
        }
      ]
    }
  ]
}